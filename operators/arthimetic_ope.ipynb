{
 "cells": [
  {
   "cell_type": "markdown",
   "metadata": {},
   "source": [
    "Python Arithmetic Operators\n",
    "\n",
    "| Operator | Name           | Description               | Example   | Result |\n",
    "| -------- | -------------- | ------------------------- | --------- | ------ |\n",
    "| `+`      | Addition       | Adds two values           | `5 + 3`   | `8`    |\n",
    "| `-`      | Subtraction    | Subtracts right from left | `10 - 4`  | `6`    |\n",
    "| `*`      | Multiplication | Multiplies two values     | `2 * 6`   | `12`   |\n",
    "| `/`      | Division       | Divides left by right     | `10 / 3`  | `3.33` |\n",
    "| `%`      | Modulus        | Remainder of division     | `10 % 3`  | `1`    |\n",
    "| `**`     | Exponentiation | Power of a number         | `2 ** 3`  | `8`    |\n",
    "| `//`     | Floor Division | Quotient without decimal  | `10 // 3` | `3`    |\n"
   ]
  },
  {
   "cell_type": "code",
   "execution_count": 2,
   "metadata": {},
   "outputs": [
    {
     "name": "stdout",
     "output_type": "stream",
     "text": [
      "x = 10\n",
      "y = 3\n",
      "Addition (x + y): 13\n",
      "Subtraction (x - y): 7\n",
      "Multiplication (x * y): 30\n",
      "Division (x / y): 3.3333333333333335\n",
      "Modulus (x % y): 1\n",
      "Exponentiation (x ** y): 1000\n",
      "Floor Division (x // y): 3\n"
     ]
    }
   ],
   "source": [
    "x = 10\n",
    "y = 3\n",
    "\n",
    "print(\"x =\", x)\n",
    "print(\"y =\", y)\n",
    "\n",
    "print(\"Addition (x + y):\", x + y)\n",
    "print(\"Subtraction (x - y):\", x - y)\n",
    "print(\"Multiplication (x * y):\", x * y)\n",
    "print(\"Division (x / y):\", x / y)\n",
    "print(\"Modulus (x % y):\", x % y)\n",
    "print(\"Exponentiation (x ** y):\", x ** y)\n",
    "print(\"Floor Division (x // y):\", x // y)\n"
   ]
  }
 ],
 "metadata": {
  "kernelspec": {
   "display_name": "venv",
   "language": "python",
   "name": "python3"
  },
  "language_info": {
   "codemirror_mode": {
    "name": "ipython",
    "version": 3
   },
   "file_extension": ".py",
   "mimetype": "text/x-python",
   "name": "python",
   "nbconvert_exporter": "python",
   "pygments_lexer": "ipython3",
   "version": "3.12.3"
  }
 },
 "nbformat": 4,
 "nbformat_minor": 2
}
