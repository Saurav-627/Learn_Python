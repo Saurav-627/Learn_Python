{
 "cells": [
  {
   "cell_type": "markdown",
   "metadata": {},
   "source": [
    "What is a Data Type?\n",
    "\n",
    "A data type tells Python what kind of data a variable is storing like numbers, text, lists, etc.\n",
    "\n",
    "In Python, variables do not need a declared type Python figures it out from the value."
   ]
  },
  {
   "cell_type": "markdown",
   "metadata": {},
   "source": [
    "\n",
    "Text Type:\tstr\n",
    "\n",
    "Numeric Types:\tint, float, complex\n",
    "\n",
    "Sequence Types:\tlist, tuple, range\n",
    "\n",
    "Mapping Type:\tdict\n",
    "\n",
    "Set Types:\tset, frozenset\n",
    "\n",
    "Boolean Type:\tbool\n",
    "\n",
    "Binary Types:\tbytes, bytearray, memoryview\n",
    "\n",
    "None Type:\tNoneType"
   ]
  },
  {
   "cell_type": "markdown",
   "metadata": {},
   "source": [
    "Setting the Data Type\n",
    "\n",
    "In Python, the data type is set when you assign a value to a variable:"
   ]
  },
  {
   "cell_type": "code",
   "execution_count": 2,
   "metadata": {},
   "outputs": [
    {
     "name": "stdout",
     "output_type": "stream",
     "text": [
      "1: <class 'str'>\n",
      "2: <class 'int'>\n",
      "3: <class 'float'>\n",
      "4: <class 'bool'>\n",
      "5: <class 'NoneType'>\n",
      "6: <class 'list'>\n",
      "7: <class 'tuple'>\n",
      "8: <class 'dict'>\n",
      "9: <class 'set'>\n",
      "10: <class 'frozenset'>\n",
      "11: <class 'range'>\n",
      "12: <class 'bytes'>\n",
      "13: <class 'bytearray'>\n",
      "14: <class 'memoryview'>\n"
     ]
    }
   ],
   "source": [
    "x = \"hello world\"\n",
    "print(\"1:\",type(x))\n",
    "\n",
    "x = 1\n",
    "print(\"2:\",type(x))\n",
    "\n",
    "x = 1.1\n",
    "print(\"3:\",type(x))\n",
    "\n",
    "x = True\n",
    "print(\"4:\",type(x))\n",
    "\n",
    "x = None\n",
    "print(\"5:\",type(x))\n",
    "\n",
    "x = [1, 2, 3]\n",
    "print(\"6:\",type(x))\n",
    "\n",
    "x = (1, 2, 3)\n",
    "print(\"7:\",type(x))\n",
    "\n",
    "x = {\"name\": \"John\", \"age\": 36}\n",
    "print(\"8:\",type(x))\n",
    "\n",
    "x = {\"apple\", \"banana\", \"cherry\"}\n",
    "print(\"9:\",type(x))\n",
    "\n",
    "x = frozenset({\"apple\", \"banana\", \"cherry\"})\n",
    "print(\"10:\",type(x))\n",
    "\n",
    "x = range(6)\n",
    "print(\"11:\",type(x))\n",
    "\n",
    "x = b\"Hello\"\n",
    "print(\"12:\",type(x))\n",
    "\n",
    "x = bytearray(5)\n",
    "print(\"13:\",type(x))\n",
    "\n",
    "x = memoryview(bytes(5))\n",
    "print(\"14:\",type(x))"
   ]
  }
 ],
 "metadata": {
  "kernelspec": {
   "display_name": "venv",
   "language": "python",
   "name": "python3"
  },
  "language_info": {
   "codemirror_mode": {
    "name": "ipython",
    "version": 3
   },
   "file_extension": ".py",
   "mimetype": "text/x-python",
   "name": "python",
   "nbconvert_exporter": "python",
   "pygments_lexer": "ipython3",
   "version": "3.12.3"
  }
 },
 "nbformat": 4,
 "nbformat_minor": 2
}
