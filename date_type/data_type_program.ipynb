{
 "cells": [
  {
   "cell_type": "markdown",
   "metadata": {},
   "source": [
    "1. Program to Find the Type of a Variable"
   ]
  },
  {
   "cell_type": "code",
   "execution_count": 1,
   "metadata": {},
   "outputs": [
    {
     "name": "stdout",
     "output_type": "stream",
     "text": [
      "Saurav\n",
      "<class 'str'>\n"
     ]
    }
   ],
   "source": [
    "x = \"Saurav\"\n",
    "print(x)\n",
    "print(type(x))"
   ]
  },
  {
   "cell_type": "markdown",
   "metadata": {},
   "source": [
    "2. Program to Take User Input and Show Its Type\n",
    " \n",
    "   Note: input() always returns a string."
   ]
  },
  {
   "cell_type": "code",
   "execution_count": 2,
   "metadata": {},
   "outputs": [
    {
     "name": "stdout",
     "output_type": "stream",
     "text": [
      "You have entered:  8\n",
      " and its type is  <class 'str'>\n"
     ]
    }
   ],
   "source": [
    "value = input(\"Enter Something You desire:\")\n",
    "print(\"You have entered: \",value)\n",
    "print(\" and its type is \",type(value))"
   ]
  },
  {
   "cell_type": "markdown",
   "metadata": {},
   "source": [
    "3. Program to Define Different Types of Variables"
   ]
  },
  {
   "cell_type": "code",
   "execution_count": 3,
   "metadata": {},
   "outputs": [
    {
     "name": "stdout",
     "output_type": "stream",
     "text": [
      "<class 'int'>\n",
      "<class 'float'>\n",
      "<class 'str'>\n",
      "<class 'bool'>\n",
      "<class 'list'>\n",
      "<class 'tuple'>\n",
      "<class 'dict'>\n",
      "<class 'set'>\n"
     ]
    }
   ],
   "source": [
    "a = 25                # int\n",
    "b = 3.14              # float\n",
    "c = \"Hello\"           # str\n",
    "d = True              # bool\n",
    "e = [1, 2, 3]         # list\n",
    "f = (4, 5, 6)         # tuple\n",
    "g = {'a': 1, 'b': 2}  # dict\n",
    "h = {7, 8, 9}         # set\n",
    "\n",
    "print(type(a))\n",
    "print(type(b))\n",
    "print(type(c))\n",
    "print(type(d))\n",
    "print(type(e))\n",
    "print(type(f))\n",
    "print(type(g))\n",
    "print(type(h))\n"
   ]
  },
  {
   "cell_type": "markdown",
   "metadata": {},
   "source": [
    "4. Program to Convert Data Types"
   ]
  },
  {
   "cell_type": "code",
   "execution_count": 4,
   "metadata": {},
   "outputs": [
    {
     "name": "stdout",
     "output_type": "stream",
     "text": [
      "x: 100 <class 'str'>\n",
      "y: 100 <class 'int'>\n"
     ]
    }
   ],
   "source": [
    "x = \"100\"\n",
    "y = int(x)  # convert string to int\n",
    "print(\"x:\", x, type(x))\n",
    "print(\"y:\", y, type(y))"
   ]
  }
 ],
 "metadata": {
  "kernelspec": {
   "display_name": "venv",
   "language": "python",
   "name": "python3"
  },
  "language_info": {
   "codemirror_mode": {
    "name": "ipython",
    "version": 3
   },
   "file_extension": ".py",
   "mimetype": "text/x-python",
   "name": "python",
   "nbconvert_exporter": "python",
   "pygments_lexer": "ipython3",
   "version": "3.12.3"
  }
 },
 "nbformat": 4,
 "nbformat_minor": 2
}
